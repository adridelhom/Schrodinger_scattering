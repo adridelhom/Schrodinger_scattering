{
 "cells": [
  {
   "cell_type": "code",
   "execution_count": 11,
   "metadata": {},
   "outputs": [],
   "source": [
    "import numpy as np\n",
    "from numpy import linalg as la\n",
    "\n",
    "import sympy\n"
   ]
  },
  {
   "cell_type": "code",
   "execution_count": 5,
   "metadata": {},
   "outputs": [],
   "source": [
    "def V(x):\n",
    "    return 0"
   ]
  },
  {
   "cell_type": "code",
   "execution_count": 24,
   "metadata": {},
   "outputs": [],
   "source": [
    "# E, x = sympy.symbols('E x')\n",
    "E = 2\n",
    "x = 0"
   ]
  },
  {
   "cell_type": "code",
   "execution_count": 35,
   "metadata": {},
   "outputs": [
    {
     "data": {
      "text/plain": [
       "array([[0.+2.00000000e+00j, 0.-7.77156117e-16j],\n",
       "       [0.+7.77156117e-16j, 0.-2.00000000e+00j]])"
      ]
     },
     "execution_count": 35,
     "metadata": {},
     "output_type": "execute_result"
    }
   ],
   "source": [
    "MV = np.array([[0 ,-2*(E-V(x))],[1,0]]) \n",
    "eval, evec = la.eig(MV)\n",
    "\n",
    "diagMV = np.matmul(np.matmul(np.linalg.inv(evec),MV),evec)\n",
    "\n",
    "diagMV\n"
   ]
  },
  {
   "cell_type": "code",
   "execution_count": null,
   "metadata": {},
   "outputs": [],
   "source": []
  }
 ],
 "metadata": {
  "interpreter": {
   "hash": "978bfef73875cb31a92589683ac0f204b35f048aa9d5fb459108f016fa64b4ce"
  },
  "kernelspec": {
   "display_name": "Python 3.9.7 64-bit ('Faena': conda)",
   "name": "python3"
  },
  "language_info": {
   "codemirror_mode": {
    "name": "ipython",
    "version": 3
   },
   "file_extension": ".py",
   "mimetype": "text/x-python",
   "name": "python",
   "nbconvert_exporter": "python",
   "pygments_lexer": "ipython3",
   "version": "3.9.7"
  },
  "orig_nbformat": 4
 },
 "nbformat": 4,
 "nbformat_minor": 2
}
